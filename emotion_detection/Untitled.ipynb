{
 "cells": [
  {
   "cell_type": "code",
   "execution_count": 1,
   "metadata": {},
   "outputs": [],
   "source": [
    "import dlib\n",
    "import cv2\n",
    "import numpy as np\n",
    "from facePoints import facePoints"
   ]
  },
  {
   "cell_type": "code",
   "execution_count": 2,
   "metadata": {},
   "outputs": [],
   "source": [
    "def writeFaceLandmarksToLocalFile(faceLandmarks, fileName):\n",
    "    with open(fileName, 'w') as f:\n",
    "        for p in faceLandmarks.parts():\n",
    "            f.write(\"%s %s\\n\" %(int(p.x),int(p.y)))\n",
    "        f.close()"
   ]
  },
  {
   "cell_type": "code",
   "execution_count": 3,
   "metadata": {},
   "outputs": [],
   "source": [
    "# location of the model (path of\n",
    "Model_PATH = \"shape_predictor_68_face_landmarks.dat\""
   ]
  },
  {
   "cell_type": "code",
   "execution_count": 4,
   "metadata": {},
   "outputs": [],
   "source": [
    "def landmarkDetector(image):\n",
    "    frontalFaceDetector = dlib.get_frontal_face_detector()\n",
    "    faceLandmarkDetector = dlib.shape_predictor(Model_PATH)\n",
    "    imageRGB = cv2.cvtColor(image, cv2.COLOR_BGR2RGB)\n",
    "    faces = frontalfaceDetector(imageRGB, 0)\n",
    "    \n",
    "    print(\"Number of Faces being detected \", len(faces))\n",
    "    \n",
    "    for face in faces:\n",
    "    \n",
    "        faceRectangleDlib = dlib.rectangle(int(face.left()), int(face.top()), int(face.right()), int(face.bottom()))\n",
    "    \n",
    "        detectedLandmarks = faceLandmarkDetector(imageRGB, faceRectangleDlib)\n",
    "        #print(detectedLandmarks.parts())\n",
    "        facePoints(image, detectedLandmarks)\n",
    "    \n",
    "    cv2.imshow(\"Changes \", image)\n",
    "    cv2.waitKey(0)\n",
    "    cv2.destroyAllWindows()"
   ]
  },
  {
   "cell_type": "code",
   "execution_count": null,
   "metadata": {},
   "outputs": [],
   "source": []
  },
  {
   "cell_type": "code",
   "execution_count": 9,
   "metadata": {},
   "outputs": [
    {
     "name": "stdout",
     "output_type": "stream",
     "text": [
      "List of all faces detected:  0\n",
      "Saving output image to output/image.jpg\n"
     ]
    }
   ],
   "source": [
    "frontalFaceDetector = dlib.get_frontal_face_detector()\n",
    "\n",
    "\n",
    "# Now the dlip shape_predictor class will take model and with the help of that, it will show \n",
    "faceLandmarkDetector = dlib.shape_predictor(Model_PATH)\n",
    "\n",
    "# We now reading image on which we applied our face detector\n",
    "image = 'data/train/0/AF01AFFL.JPG'\n",
    "\n",
    "# Now we are reading image using openCV\n",
    "img= cv2.imread(image)\n",
    "imageRGB = cv2.cvtColor(img, cv2.COLOR_BGR2RGB)\n",
    "\n",
    "# landmarks of the face image  will be stored in output/image_k.txt\n",
    "faceLandmarksOuput= \"output/image\"\n",
    "\n",
    "# Now this line will try to detect all faces in an image either 1 or 2 or more faces\n",
    "allFaces = frontalFaceDetector(imageRGB, 0)\n",
    "\n",
    "\n",
    "print(\"List of all faces detected: \",len(allFaces))\n",
    "\n",
    "allFacesLandmark = []\n",
    "\n",
    "for k in range(0, len(allFaces)):\n",
    "    # dlib rectangle class will detecting face so that landmark can apply inside of that area\n",
    "    faceRectangleDlib = dlib.rectangle(int(allFaces[k].left()),int(allFaces[k].top()),\n",
    "      int(allFaces[k].right()),int(allFaces[k].bottom()))\n",
    "\n",
    "    # Now we are running loop on every detected face and putting landmark on that with the help of faceLandmarkDetector\n",
    "    detectedLandmarks = faceLandmarkDetector(imageRGB, faceRectangleDlib)\n",
    "  \n",
    "    # count number of landmarks we actually detected on image\n",
    "    if k==0:\n",
    "        print(\"Total number of face landmarks detected \",len(detectedLandmarks.parts()))\n",
    "\n",
    "    # Saving the landmark one by one to the output folder\n",
    "    allFacesLandmark.append(detectedLandmarks)\n",
    "\n",
    "    # Now finally we drawing landmarks on face\n",
    "    facePoints(img, detectedLandmarks)\n",
    "\n",
    "    fileName = faceLandmarksOuput +\"_\"+ str(k)+ \".txt\"\n",
    "    print(\"Lanmdark is save into \", fileName)\n",
    "\n",
    "    # Write landmarks to disk\n",
    "    writeFaceLandmarksToLocalFile(detectedLandmarks, fileName)\n",
    "\n",
    "outputNameofImage = \"output/image.jpg\"\n",
    "print(\"Saving output image to\", outputNameofImage)\n",
    "cv2.imwrite(outputNameofImage, img)\n",
    "\n",
    "cv2.imshow(\"Face landmark result\", img)\n",
    "\n",
    "cv2.waitKey(0)\n",
    "cv2.destroyAllWindows()"
   ]
  },
  {
   "cell_type": "code",
   "execution_count": 5,
   "metadata": {},
   "outputs": [
    {
     "name": "stdout",
     "output_type": "stream",
     "text": [
      "Number of Faces being detected  1\n",
      "Number of Faces being detected  1\n",
      "Number of Faces being detected  1\n",
      "Number of Faces being detected  0\n",
      "Number of Faces being detected  1\n",
      "Number of Faces being detected  1\n",
      "Number of Faces being detected  1\n",
      "Number of Faces being detected  1\n"
     ]
    },
    {
     "ename": "error",
     "evalue": "OpenCV(4.2.0) /io/opencv/modules/highgui/src/window.cpp:376: error: (-215:Assertion failed) size.width>0 && size.height>0 in function 'imshow'\n",
     "output_type": "error",
     "traceback": [
      "\u001b[0;31m---------------------------------------------------------------------------\u001b[0m",
      "\u001b[0;31merror\u001b[0m                                     Traceback (most recent call last)",
      "\u001b[0;32m<ipython-input-5-68ab6a0f05d8>\u001b[0m in \u001b[0;36m<module>\u001b[0;34m\u001b[0m\n\u001b[1;32m     12\u001b[0m             \u001b[0mimage\u001b[0m \u001b[0;34m=\u001b[0m \u001b[0mcv2\u001b[0m\u001b[0;34m.\u001b[0m\u001b[0mimread\u001b[0m\u001b[0;34m(\u001b[0m\u001b[0mimg\u001b[0m\u001b[0;34m)\u001b[0m\u001b[0;34m\u001b[0m\u001b[0;34m\u001b[0m\u001b[0m\n\u001b[1;32m     13\u001b[0m \u001b[0;34m\u001b[0m\u001b[0m\n\u001b[0;32m---> 14\u001b[0;31m             \u001b[0mcv2\u001b[0m\u001b[0;34m.\u001b[0m\u001b[0mimshow\u001b[0m\u001b[0;34m(\u001b[0m\u001b[0;34m\"Initial\"\u001b[0m\u001b[0;34m,\u001b[0m \u001b[0mimage\u001b[0m\u001b[0;34m)\u001b[0m\u001b[0;34m\u001b[0m\u001b[0;34m\u001b[0m\u001b[0m\n\u001b[0m\u001b[1;32m     15\u001b[0m             \u001b[0mlandmarkDetector\u001b[0m\u001b[0;34m(\u001b[0m\u001b[0mimage\u001b[0m\u001b[0;34m)\u001b[0m\u001b[0;34m\u001b[0m\u001b[0;34m\u001b[0m\u001b[0m\n\u001b[1;32m     16\u001b[0m             \u001b[0mcv2\u001b[0m\u001b[0;34m.\u001b[0m\u001b[0mwaitKey\u001b[0m\u001b[0;34m(\u001b[0m\u001b[0;36m0\u001b[0m\u001b[0;34m)\u001b[0m\u001b[0;34m\u001b[0m\u001b[0;34m\u001b[0m\u001b[0m\n",
      "\u001b[0;31merror\u001b[0m: OpenCV(4.2.0) /io/opencv/modules/highgui/src/window.cpp:376: error: (-215:Assertion failed) size.width>0 && size.height>0 in function 'imshow'\n"
     ]
    }
   ],
   "source": [
    "if __name__ == \"__main__\":\n",
    "    frontalfaceDetector = dlib.get_frontal_face_detector()\n",
    "    faceLandmarkDetector = dlib.shape_predictor(Model_PATH)\n",
    "    i_dir = 'data/train/0/'\n",
    "    \n",
    "    feel = 'AF'\n",
    "    li = ['HR', 'S', 'HL', 'FL']\n",
    "    \n",
    "    for i in range(10,34):\n",
    "        for j in li:\n",
    "            img = i_dir + feel + str(i)+feel+j+'.JPG'\n",
    "            image = cv2.imread(img)\n",
    "    \n",
    "            cv2.imshow(\"Initial\", image)\n",
    "            landmarkDetector(image)\n",
    "            cv2.waitKey(0)\n",
    "            cv2.destroyAllWindows()\n",
    "    "
   ]
  },
  {
   "cell_type": "code",
   "execution_count": null,
   "metadata": {},
   "outputs": [],
   "source": []
  }
 ],
 "metadata": {
  "kernelspec": {
   "display_name": "Python 3",
   "language": "python",
   "name": "python3"
  },
  "language_info": {
   "codemirror_mode": {
    "name": "ipython",
    "version": 3
   },
   "file_extension": ".py",
   "mimetype": "text/x-python",
   "name": "python",
   "nbconvert_exporter": "python",
   "pygments_lexer": "ipython3",
   "version": "3.7.6"
  }
 },
 "nbformat": 4,
 "nbformat_minor": 4
}
