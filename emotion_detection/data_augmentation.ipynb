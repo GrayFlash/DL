{
 "cells": [
  {
   "cell_type": "code",
   "execution_count": 1,
   "metadata": {},
   "outputs": [],
   "source": [
    "import os\n",
    "import numpy as np\n",
    "import pandas as pd\n",
    "import cv2 as cv\n",
    "import argparse\n",
    "from haar import *\n",
    "from PIL import Image, ImageEnhance, ImageDraw "
   ]
  },
  {
   "cell_type": "code",
   "execution_count": 2,
   "metadata": {},
   "outputs": [],
   "source": [
    "def ROI(image):\n",
    "    face_classifier = cv.CascadeClassifier('haarcascade_frontalface_default.xml')\n",
    "    faces = face_classifier.detectMultiScale(gray, 1.1, 5)\n",
    "    max_area = 0\n",
    "    x_1=0\n",
    "    y_1=0\n",
    "    w_1=0\n",
    "    h_1=0\n",
    "    for face in faces:\n",
    "        x, y, w, h = faces[0]\n",
    "        if w*h > max_area:\n",
    "            max_area = w*h\n",
    "            x_1, y_1, w_1, h_1 = face\n",
    "    \n",
    "    return x_1,y_1,w_1,h_1"
   ]
  },
  {
   "cell_type": "code",
   "execution_count": 3,
   "metadata": {},
   "outputs": [],
   "source": [
    "base_dir = 'data/train/'\n",
    "li = [ i for i in range(0, 6)]"
   ]
  },
  {
   "cell_type": "code",
   "execution_count": null,
   "metadata": {},
   "outputs": [],
   "source": [
    "final_dir = 'dataset/train/'"
   ]
  }
 ],
 "metadata": {
  "kernelspec": {
   "display_name": "Python 3",
   "language": "python",
   "name": "python3"
  },
  "language_info": {
   "codemirror_mode": {
    "name": "ipython",
    "version": 3
   },
   "file_extension": ".py",
   "mimetype": "text/x-python",
   "name": "python",
   "nbconvert_exporter": "python",
   "pygments_lexer": "ipython3",
   "version": "3.7.6"
  }
 },
 "nbformat": 4,
 "nbformat_minor": 4
}
