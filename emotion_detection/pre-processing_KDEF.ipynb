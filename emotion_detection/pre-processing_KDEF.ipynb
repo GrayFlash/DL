{
 "cells": [
  {
   "cell_type": "code",
   "execution_count": 1,
   "metadata": {},
   "outputs": [
    {
     "data": {
      "text/plain": [
       "'/home/gray/git_folders/DL/emotion_detection'"
      ]
     },
     "execution_count": 1,
     "metadata": {},
     "output_type": "execute_result"
    }
   ],
   "source": [
    "pwd"
   ]
  },
  {
   "cell_type": "code",
   "execution_count": 1,
   "metadata": {},
   "outputs": [],
   "source": [
    "import os\n",
    "\n",
    "base_dir = '../dataset/KDEF_and_AKDEF/KDEF/'\n",
    "datas = []\n",
    "\n",
    "for i, j, k in os.walk(base_dir):\n",
    "    \n",
    "    for img in k:\n",
    "        name = img.split('.')[0]\n",
    "        Number = name[:4]\n",
    "        expression = name[4:6]\n",
    "        angle = name[6:]\n",
    "        #print(Number, expression, angle)\n",
    "        switch_expression = {\n",
    "            \"AF\": 0,\n",
    "            \"AN\": 1,\n",
    "            \"DI\": 2,\n",
    "            \"HA\": 3,\n",
    "            \"NE\": 4,\n",
    "            \"SA\": 5,\n",
    "            \"SU\": 6\n",
    "        }\n",
    "        switch_angle = {\n",
    "            \"FL\": 0,\n",
    "            \"FR\": 1,\n",
    "            \"HL\": 2,\n",
    "            \"HR\": 3,\n",
    "            \"S\" : 4\n",
    "        }\n",
    "        if(angle != 'S'):\n",
    "            continue\n",
    "        data =  Number + '/' + img + ',' + \\\n",
    "                str(switch_expression[expression]) + ',' + \\\n",
    "                str(switch_angle[angle])\n",
    "        datas.append(data)\n",
    "        #print(data)"
   ]
  },
  {
   "cell_type": "code",
   "execution_count": 2,
   "metadata": {},
   "outputs": [
    {
     "data": {
      "text/plain": [
       "980"
      ]
     },
     "execution_count": 2,
     "metadata": {},
     "output_type": "execute_result"
    }
   ],
   "source": [
    "len(datas)"
   ]
  },
  {
   "cell_type": "code",
   "execution_count": 3,
   "metadata": {},
   "outputs": [],
   "source": [
    "def save_file(file_name, rows):\n",
    "    file = open(file_name, 'w', encoding='utf-8')\n",
    "    \n",
    "    for row in rows:\n",
    "        file.write(row+\"\\n\")\n",
    "    file.close()"
   ]
  },
  {
   "cell_type": "code",
   "execution_count": 4,
   "metadata": {},
   "outputs": [],
   "source": [
    "import numpy as np\n",
    "np.random.shuffle(datas)"
   ]
  },
  {
   "cell_type": "code",
   "execution_count": 5,
   "metadata": {},
   "outputs": [],
   "source": [
    "save_file('all_datas_4.txt', datas)"
   ]
  },
  {
   "cell_type": "code",
   "execution_count": 6,
   "metadata": {},
   "outputs": [],
   "source": [
    "def seperate_description(data):\n",
    "    path = [i.split(',')[0] for i in data]\n",
    "    expression = [i.split(',')[1] for i in data]\n",
    "    angle = [i.split(',')[2] for i in data]\n",
    "    return path, expression, angle"
   ]
  },
  {
   "cell_type": "code",
   "execution_count": 7,
   "metadata": {},
   "outputs": [],
   "source": [
    "image_data, image_label, _ = seperate_description(datas)"
   ]
  },
  {
   "cell_type": "code",
   "execution_count": 8,
   "metadata": {},
   "outputs": [],
   "source": [
    "data_dir = 'data/'\n",
    "\n",
    "if not os.path.exists(data_dir):\n",
    "    os.mkdir(data_dir)\n",
    "\n",
    "label_range = np.unique(image_label)\n",
    "\n",
    "# training data dictionary\n",
    "main_dir = os.path.join(data_dir, 'front_trial')\n",
    "if not os.path.exists(main_dir):\n",
    "    os.mkdir(main_dir)\n",
    "    for i in label_range:\n",
    "        main_i_dir = os.path.join(main_dir, str(i))\n",
    "        if not os.path.exists(main_i_dir):\n",
    "            os.mkdir(main_i_dir)"
   ]
  },
  {
   "cell_type": "code",
   "execution_count": 9,
   "metadata": {},
   "outputs": [
    {
     "name": "stdout",
     "output_type": "stream",
     "text": [
      "Data copied\n"
     ]
    }
   ],
   "source": [
    "import shutil\n",
    "\n",
    "#Copy All the data\n",
    "for path, expression in zip(image_data, image_label):\n",
    "    file = path.split('/')[1]\n",
    "    src = os.path.join(base_dir,path)\n",
    "    dst = os.path.join(main_dir, str(expression), file)\n",
    "    shutil.copyfile(src, dst)\n",
    "\n",
    "print(\"Data copied\")"
   ]
  },
  {
   "cell_type": "code",
   "execution_count": 10,
   "metadata": {},
   "outputs": [],
   "source": [
    "import cv2 as cv\n",
    "import matplotlib.pyplot as plt\n",
    "from IPython.display import display, HTML\n",
    "from albumentations import (RandomBrightnessContrast, Rotate)"
   ]
  },
  {
   "cell_type": "code",
   "execution_count": 11,
   "metadata": {},
   "outputs": [],
   "source": [
    "transform = Rotate(limit=(30, 30), interpolation=1, border_mode=4,  p=1)\n",
    "transform1 = Rotate(limit=(-30, -30), interpolation=1, border_mode=4,  p=1)\n",
    "transform2 = Rotate(limit=(15, 15), interpolation=1, border_mode=4,  p=1)\n",
    "transform3 = Rotate(limit=(-15, -15), interpolation=1, border_mode=4,  p=1)\n",
    "\n",
    "import random"
   ]
  },
  {
   "cell_type": "code",
   "execution_count": 12,
   "metadata": {},
   "outputs": [],
   "source": [
    "def visualize(image):\n",
    "    plt.figure(figsize=(10, 10))\n",
    "    plt.axis('off')\n",
    "    plt.imshow(image)"
   ]
  },
  {
   "cell_type": "code",
   "execution_count": 13,
   "metadata": {},
   "outputs": [],
   "source": [
    "base_dir = 'data/front_trial/'\n",
    "li = [i for i in range(0,7)]"
   ]
  },
  {
   "cell_type": "code",
   "execution_count": 14,
   "metadata": {},
   "outputs": [
    {
     "name": "stdout",
     "output_type": "stream",
     "text": [
      "data/front_trial/0\n",
      "data/front_trial/1\n",
      "data/front_trial/2\n",
      "data/front_trial/3\n",
      "data/front_trial/4\n",
      "data/front_trial/5\n",
      "data/front_trial/6\n"
     ]
    }
   ],
   "source": [
    "for i in li:\n",
    "    for x,y,z in os.walk(base_dir+str(i)):\n",
    "        count = 1\n",
    "        for img in z:\n",
    "            image = cv.imread(x+'/'+img)\n",
    "            image = cv.cvtColor(image, cv.COLOR_BGR2RGB)\n",
    "            saved = transform(image=image)['image']\n",
    "            saved = cv.cvtColor(saved, cv.COLOR_RGB2BGR)\n",
    "            cv.imwrite(base_dir+str(i)+'/'+str(count)+'.jpg', saved)\n",
    "            count+=1\n",
    "            saved = transform1(image=image)['image']\n",
    "            saved = cv.cvtColor(saved, cv.COLOR_RGB2BGR)\n",
    "            cv.imwrite(base_dir+str(i)+'/'+str(count)+'.jpg', saved)\n",
    "            count+=1\n",
    "            saved = transform2(image=image)['image']\n",
    "            saved = cv.cvtColor(saved, cv.COLOR_RGB2BGR)\n",
    "            cv.imwrite(base_dir+str(i)+'/'+str(count)+'.jpg', saved)\n",
    "            count+=1\n",
    "            saved = transform3(image=image)['image']\n",
    "            saved = cv.cvtColor(saved, cv.COLOR_RGB2BGR)\n",
    "            cv.imwrite(base_dir+str(i)+'/'+str(count)+'.jpg', saved)\n",
    "            count+=1\n",
    "            #if(count%100 == 0):\n",
    "                #b=visualize(saved)\n",
    "        print(x)"
   ]
  },
  {
   "cell_type": "code",
   "execution_count": 15,
   "metadata": {},
   "outputs": [],
   "source": [
    "count = 561"
   ]
  },
  {
   "cell_type": "code",
   "execution_count": 17,
   "metadata": {},
   "outputs": [
    {
     "name": "stdout",
     "output_type": "stream",
     "text": [
      "data/front_trial/0\n",
      "data/front_trial/1\n",
      "data/front_trial/2\n",
      "data/front_trial/3\n",
      "data/front_trial/4\n",
      "data/front_trial/5\n",
      "data/front_trial/6\n"
     ]
    }
   ],
   "source": [
    "from albumentations import (RandomBrightness, Rotate, Blur, RandomContrast)\n",
    "#transform4 = RandomBrightness(p=1)\n",
    "transform5 = Blur(blur_limit=3, p=1.0)\n",
    "transform6 = RandomContrast(limit= 0.5, p=1)\n",
    "\n",
    "for i in li:\n",
    "    for x,y,z in os.walk(base_dir+str(i)):\n",
    "        count = 561\n",
    "        for img in z:\n",
    "#             image = cv.imread(x+'/'+img)\n",
    "#             image = cv.cvtColor(image, cv.COLOR_BGR2RGB)\n",
    "#             saved = transform4(image=image)['image']\n",
    "#             saved = cv.cvtColor(saved, cv.COLOR_RGB2BGR)\n",
    "#             cv.imwrite(base_dir+str(i)+'/'+str(count)+'.jpg', saved)\n",
    "#             count+=1\n",
    "            image = cv.imread(x+'/'+img)\n",
    "            image = cv.cvtColor(image, cv.COLOR_BGR2RGB)\n",
    "            saved = transform5(image=image)['image']\n",
    "            saved = cv.cvtColor(saved, cv.COLOR_RGB2BGR)\n",
    "            cv.imwrite(base_dir+str(i)+'/'+str(count)+'.jpg', saved)\n",
    "            count+=1\n",
    "            #image = cv.imread(x+'/'+img)\n",
    "            #image = cv.cvtColor(image, cv.COLOR_BGR2RGB)\n",
    "            saved = transform6(image=image)['image']\n",
    "            saved = cv.cvtColor(saved, cv.COLOR_RGB2BGR)\n",
    "            cv.imwrite(base_dir+str(i)+'/'+str(count)+'.jpg', saved)\n",
    "            count+=1\n",
    "            #if(count%100 == 0):\n",
    "                #b=visualize(saved)\n",
    "        print(x)"
   ]
  },
  {
   "cell_type": "code",
   "execution_count": null,
   "metadata": {},
   "outputs": [],
   "source": []
  }
 ],
 "metadata": {
  "kernelspec": {
   "display_name": "Python 3",
   "language": "python",
   "name": "python3"
  },
  "language_info": {
   "codemirror_mode": {
    "name": "ipython",
    "version": 3
   },
   "file_extension": ".py",
   "mimetype": "text/x-python",
   "name": "python",
   "nbconvert_exporter": "python",
   "pygments_lexer": "ipython3",
   "version": "3.7.6"
  }
 },
 "nbformat": 4,
 "nbformat_minor": 4
}
