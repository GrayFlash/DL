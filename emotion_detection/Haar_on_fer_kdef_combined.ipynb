{
 "cells": [
  {
   "cell_type": "code",
   "execution_count": 10,
   "metadata": {},
   "outputs": [],
   "source": [
    "import os\n",
    "import numpy as np\n",
    "import pandas as pd\n",
    "import cv2 as cv\n",
    "import argparse\n",
    "from haar import *\n",
    "from PIL import Image, ImageEnhance, ImageDraw "
   ]
  },
  {
   "cell_type": "code",
   "execution_count": null,
   "metadata": {},
   "outputs": [],
   "source": [
    "# def ROI(image):\n",
    "#     face_classifier = cv.CascadeClassifier('haarcascade_frontalface_default.xml')\n",
    "#     faces = face_classifier.detectMultiScale(gray, 1.1, 5)\n",
    "#     max_area = 0\n",
    "#     x_1=0\n",
    "#     y_1=0\n",
    "#     w_1=0\n",
    "#     h_1=0\n",
    "#     for face in faces:\n",
    "#         x, y, w, h = faces[0]\n",
    "#         if w*h > max_area:\n",
    "#             max_area = w*h\n",
    "#             x_1, y_1, w_1, h_1 = face\n",
    "    \n",
    "#     return x_1,y_1,w_1,h_1"
   ]
  },
  {
   "cell_type": "code",
   "execution_count": 6,
   "metadata": {},
   "outputs": [],
   "source": [
    "base_dir = 'data/validation/'\n",
    "li = [ i for i in range(0, 1)]"
   ]
  },
  {
   "cell_type": "code",
   "execution_count": 7,
   "metadata": {},
   "outputs": [],
   "source": [
    "final_dir = 'dataset/validation/'"
   ]
  },
  {
   "cell_type": "code",
   "execution_count": 11,
   "metadata": {},
   "outputs": [
    {
     "ename": "AttributeError",
     "evalue": "type object 'haar' has no attribute 'Region_OI'",
     "output_type": "error",
     "traceback": [
      "\u001b[0;31m---------------------------------------------------------------------------\u001b[0m",
      "\u001b[0;31mAttributeError\u001b[0m                            Traceback (most recent call last)",
      "\u001b[0;32m<ipython-input-11-3c9ec2226531>\u001b[0m in \u001b[0;36m<module>\u001b[0;34m\u001b[0m\n\u001b[1;32m     11\u001b[0m             \u001b[0;32melse\u001b[0m\u001b[0;34m:\u001b[0m\u001b[0;34m\u001b[0m\u001b[0;34m\u001b[0m\u001b[0m\n\u001b[1;32m     12\u001b[0m                 \u001b[0mgray\u001b[0m \u001b[0;34m=\u001b[0m \u001b[0mnp\u001b[0m\u001b[0;34m.\u001b[0m\u001b[0marray\u001b[0m\u001b[0;34m(\u001b[0m\u001b[0mimage\u001b[0m\u001b[0;34m)\u001b[0m\u001b[0;34m\u001b[0m\u001b[0;34m\u001b[0m\u001b[0m\n\u001b[0;32m---> 13\u001b[0;31m             \u001b[0mx\u001b[0m\u001b[0;34m,\u001b[0m\u001b[0my\u001b[0m\u001b[0;34m,\u001b[0m\u001b[0mw\u001b[0m\u001b[0;34m,\u001b[0m\u001b[0mh\u001b[0m \u001b[0;34m=\u001b[0m \u001b[0mhaar\u001b[0m\u001b[0;34m.\u001b[0m\u001b[0mRegion_OI\u001b[0m\u001b[0;34m(\u001b[0m\u001b[0mgray\u001b[0m\u001b[0;34m)\u001b[0m\u001b[0;34m\u001b[0m\u001b[0;34m\u001b[0m\u001b[0m\n\u001b[0m\u001b[1;32m     14\u001b[0m             \u001b[0;32mif\u001b[0m \u001b[0mw\u001b[0m\u001b[0;34m==\u001b[0m\u001b[0;36m0\u001b[0m \u001b[0;32mor\u001b[0m \u001b[0mh\u001b[0m\u001b[0;34m==\u001b[0m\u001b[0;36m0\u001b[0m \u001b[0;32mor\u001b[0m \u001b[0my\u001b[0m\u001b[0;34m==\u001b[0m\u001b[0;36m0\u001b[0m \u001b[0;32mor\u001b[0m \u001b[0mx\u001b[0m\u001b[0;34m==\u001b[0m\u001b[0;36m0\u001b[0m\u001b[0;34m:\u001b[0m\u001b[0;34m\u001b[0m\u001b[0;34m\u001b[0m\u001b[0m\n\u001b[1;32m     15\u001b[0m                 \u001b[0;32mcontinue\u001b[0m\u001b[0;34m\u001b[0m\u001b[0;34m\u001b[0m\u001b[0m\n",
      "\u001b[0;31mAttributeError\u001b[0m: type object 'haar' has no attribute 'Region_OI'"
     ]
    }
   ],
   "source": [
    "for num in li:\n",
    "    curr_dir = base_dir+str(num)\n",
    "    for i, j, k in os.walk(curr_dir):\n",
    "        count = 1\n",
    "        for img in k:\n",
    "            image = Image.open(curr_dir+'/'+img)\n",
    "            if np.array(image).shape[0] > 50:\n",
    "                enhancer = ImageEnhance.Contrast(image)\n",
    "                image = enhancer.enhance(0.7)\n",
    "                gray = cv.cvtColor(np.array(image), cv.COLOR_BGR2GRAY)\n",
    "            else:\n",
    "                gray = np.array(image)\n",
    "            x,y,w,h = haar.Region_OI(gray)\n",
    "            if w==0 or h==0 or y==0 or x==0:\n",
    "                continue\n",
    "            if h>50 and w>50:\n",
    "                h += 50\n",
    "                w += 50\n",
    "            cropped = gray[y:y+h, x:x+w]\n",
    "            cropped = Image.fromarray(cropped)\n",
    "            cropped.save(final_dir+str(num)+'/'+str(count)+'.jpg','JPEG')\n",
    "            count += 1"
   ]
  },
  {
   "cell_type": "code",
   "execution_count": null,
   "metadata": {},
   "outputs": [],
   "source": []
  }
 ],
 "metadata": {
  "kernelspec": {
   "display_name": "Python 3",
   "language": "python",
   "name": "python3"
  },
  "language_info": {
   "codemirror_mode": {
    "name": "ipython",
    "version": 3
   },
   "file_extension": ".py",
   "mimetype": "text/x-python",
   "name": "python",
   "nbconvert_exporter": "python",
   "pygments_lexer": "ipython3",
   "version": "3.7.6"
  }
 },
 "nbformat": 4,
 "nbformat_minor": 4
}
