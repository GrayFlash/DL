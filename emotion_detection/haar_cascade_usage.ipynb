{
 "cells": [
  {
   "cell_type": "code",
   "execution_count": 4,
   "metadata": {},
   "outputs": [],
   "source": [
    "import numpy as np\n",
    "import cv2 as cv\n",
    "import argparse\n",
    "from PIL import Image, ImageEnhance, ImageDraw \n",
    "import matplotlib.pyplot as plt\n",
    "import os\n",
    "from haar import *"
   ]
  },
  {
   "cell_type": "code",
   "execution_count": 27,
   "metadata": {},
   "outputs": [],
   "source": [
    "def ROI(frame):\n",
    "    face_classifier = cv.CascadeClassifier('haarcascade_frontalface_default.xml')\n",
    "    gray = cv.cvtColor(np.array(frame), cv.COLOR_BGR2GRAY)\n",
    "    faces = face_classifier.detectMultiScale(gray, 1.1, 5)\n",
    "    try:\n",
    "        x, y, w, h = faces[0]\n",
    "    except:\n",
    "        x,y,w,h = (0,0,0,0)\n",
    "    return x,y,w,h"
   ]
  },
  {
   "cell_type": "code",
   "execution_count": 4,
   "metadata": {},
   "outputs": [],
   "source": [
    "cap = cv.VideoCapture(0)\n",
    "\n",
    "while True:\n",
    "    ret, frame = cap.read()\n",
    "    x,y,w,h = ROI(frame)\n",
    "    cv.rectangle(frame, (x,y), (x+w, y+h), (127, 0, 255), 2)\n",
    "    cv.imshow('ROI', frame)\n",
    "    if(cv.waitKey(2) == 13 & 0xFF):\n",
    "        break\n",
    "\n",
    "cap.release()\n",
    "cv.destroyAllWindows()"
   ]
  },
  {
   "cell_type": "code",
   "execution_count": 12,
   "metadata": {},
   "outputs": [],
   "source": [
    "cap.release()"
   ]
  },
  {
   "cell_type": "code",
   "execution_count": 5,
   "metadata": {},
   "outputs": [],
   "source": [
    "base_dir = 'data/'"
   ]
  },
  {
   "cell_type": "code",
   "execution_count": 6,
   "metadata": {},
   "outputs": [],
   "source": [
    "dirs = ['train', 'test', 'validation']"
   ]
  },
  {
   "cell_type": "code",
   "execution_count": 42,
   "metadata": {},
   "outputs": [],
   "source": [
    "data_dir = 'cropped/'\n",
    "\n",
    "if not os.path.exists(data_dir):\n",
    "    os.mkdir(data_dir)\n",
    "    \n",
    "count = 1\n",
    "\n",
    "for sub in dirs:\n",
    "    curr_dir = base_dir + sub\n",
    "    for i, j, k in os.walk(curr_dir):\n",
    "        \n",
    "        for name in k:\n",
    "            img = Image.open(i+\"/\"+name)\n",
    "            x,y,w,h = ROI(img)\n",
    "            img_2 = np.array(img)\n",
    "            croped = img_2[y:y+h, x:x+w]\n",
    "            if croped.shape[0]>0:\n",
    "                croped = Image.fromarray(croped)\n",
    "                croped.save(data_dir+str(count)+'.jpeg','JPEG')\n",
    "            count+=1\n"
   ]
  },
  {
   "cell_type": "code",
   "execution_count": null,
   "metadata": {},
   "outputs": [],
   "source": []
  }
 ],
 "metadata": {
  "kernelspec": {
   "display_name": "Python 3",
   "language": "python",
   "name": "python3"
  },
  "language_info": {
   "codemirror_mode": {
    "name": "ipython",
    "version": 3
   },
   "file_extension": ".py",
   "mimetype": "text/x-python",
   "name": "python",
   "nbconvert_exporter": "python",
   "pygments_lexer": "ipython3",
   "version": "3.7.6"
  }
 },
 "nbformat": 4,
 "nbformat_minor": 4
}
